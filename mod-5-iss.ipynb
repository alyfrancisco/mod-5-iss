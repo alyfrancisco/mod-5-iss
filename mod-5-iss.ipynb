{
 "cells": [
  {
   "cell_type": "code",
   "execution_count": 5,
   "id": "dcc3c352-754e-4b0c-890f-dec60c80913d",
   "metadata": {},
   "outputs": [
    {
     "name": "stdout",
     "output_type": "stream",
     "text": [
      "     Timestamp Latitude Longitude\n",
      "0   1658643188   2.4495  119.6624\n",
      "1   1658643199   2.9827  120.0414\n",
      "2   1658643209   3.4905  120.4028\n",
      "3   1658643219   4.0234  120.7827\n",
      "4   1658643230   4.5562  121.1632\n",
      "..         ...      ...       ...\n",
      "95  1658644173  46.1410  169.0539\n",
      "96  1658644183  46.4401  169.8955\n",
      "97  1658644194  46.7324  170.7468\n",
      "98  1658644204  47.0048  171.5687\n",
      "99  1658644214  47.2834  172.4395\n",
      "\n",
      "[100 rows x 3 columns]\n"
     ]
    }
   ],
   "source": [
    "import requests as req\n",
    "import pandas as pd \n",
    "import time\n",
    "import json\n",
    "\n",
    "position = []\n",
    "\n",
    "for i in range(100):  \n",
    "    response = req.get('http://api.open-notify.org/iss-now.json')\n",
    "    result = response.text\n",
    "    data = json.loads(result)\n",
    "    \n",
    "    position.append((data['timestamp'],data['iss_position']['latitude'],data['iss_position']['longitude']))\n",
    "    time.sleep(10)\n",
    "    \n",
    "df = pd.DataFrame(position, columns = ['Timestamp', 'Latitude', 'Longitude'])\n",
    "print(df)"
   ]
  },
  {
   "cell_type": "code",
   "execution_count": 8,
   "id": "e0520d3b-b6ae-4fc8-b22c-bcc49163ace7",
   "metadata": {},
   "outputs": [
    {
     "data": {
      "image/png": "[encoded data removed]",
      "text/plain": [
       "<Figure size 432x288 with 1 Axes>"
      ]
     },
     "metadata": {
      "needs_background": "light"
     },
     "output_type": "display_data"
    }
   ],
   "source": [
    "import matplotlib.pyplot as plt\n",
    "%matplotlib inline\n",
    "\n",
    "df.to_csv('iss_loc.csv')\n",
    "df = pd.read_csv('iss_loc.csv')\n",
    "plt.plot(df.Latitude, df.Longitude,'m.')\n",
    "plt.xlabel('Latitude')\n",
    "plt.ylabel('Longitude')\n",
    "plt.title('International Space Station Path')\n",
    "plt.show()"
   ]
  },
  {
   "cell_type": "code",
   "execution_count": null,
   "id": "ba206c75-d699-45b6-ae0e-138f49783e2c",
   "metadata": {},
   "outputs": [],
   "source": []
  }
 ],
 "metadata": {
  "kernelspec": {
   "display_name": "Python 3 (ipykernel)",
   "language": "python",
   "name": "python3"
  },
  "language_info": {
   "codemirror_mode": {
    "name": "ipython",
    "version": 3
   },
   "file_extension": ".py",
   "mimetype": "text/x-python",
   "name": "python",
   "nbconvert_exporter": "python",
   "pygments_lexer": "ipython3",
   "version": "3.9.12"
  }
 },
 "nbformat": 4,
 "nbformat_minor": 5
}

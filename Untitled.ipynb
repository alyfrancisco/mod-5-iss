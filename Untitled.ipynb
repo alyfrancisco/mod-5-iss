{
 "cells": [
  {
   "cell_type": "code",
   "execution_count": 2,
   "id": "58203d42-06a4-4f68-aa3d-5528c12a7a9f",
   "metadata": {},
   "outputs": [],
   "source": [
    "import requests as req\n",
    "import pandas as pd\n",
    "import json\n",
    "import time\n",
    "%matplotlib inline"
   ]
  },
  {
   "cell_type": "code",
   "execution_count": null,
   "id": "22f5ed6f-ec92-4fba-aeb5-463b17743b82",
   "metadata": {},
   "outputs": [],
   "source": [
    "position = []\n",
    "\n",
    "for i in range(100):\n",
    "    response = req.get('http://api.open-notify.org/iss-now.json')\n",
    "    result = response.text\n",
    "    data = json.loads(result)\n",
    "    \n",
    "    position.append((data['timestamp'],data['iss_position']['latitude'],data['iss_position']['longitude']))\n",
    "    time.sleep(10)\n",
    "\n",
    "df = pd.DataFrame(position, columns = ['Timestamp','Latitude','Longitude'])\n",
    "print(df)"
   ]
  },
  {
   "cell_type": "code",
   "execution_count": null,
   "id": "bb4793e6-6e1a-4c9f-9757-5c0a769ebe61",
   "metadata": {},
   "outputs": [],
   "source": []
  }
 ],
 "metadata": {
  "kernelspec": {
   "display_name": "Python 3 (ipykernel)",
   "language": "python",
   "name": "python3"
  },
  "language_info": {
   "codemirror_mode": {
    "name": "ipython",
    "version": 3
   },
   "file_extension": ".py",
   "mimetype": "text/x-python",
   "name": "python",
   "nbconvert_exporter": "python",
   "pygments_lexer": "ipython3",
   "version": "3.9.12"
  }
 },
 "nbformat": 4,
 "nbformat_minor": 5
}
